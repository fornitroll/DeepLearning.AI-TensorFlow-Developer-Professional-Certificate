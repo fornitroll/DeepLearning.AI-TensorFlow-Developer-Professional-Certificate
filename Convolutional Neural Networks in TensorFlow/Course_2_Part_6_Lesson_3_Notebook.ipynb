{
  "nbformat": 4,
  "nbformat_minor": 0,
  "metadata": {
    "accelerator": "GPU",
    "colab": {
      "name": "Course 2 - Part 6 - Lesson 3 - Notebook.ipynb",
      "provenance": [],
      "collapsed_sections": [],
      "toc_visible": true
    },
    "kernelspec": {
      "display_name": "Python 3",
      "name": "python3"
    }
  },
  "cells": [
    {
      "cell_type": "markdown",
      "metadata": {
        "id": "rX8mhOLljYeM"
      },
      "source": [
        "##### Copyright 2019 The TensorFlow Authors."
      ]
    },
    {
      "cell_type": "code",
      "metadata": {
        "cellView": "form",
        "id": "BZSlp3DAjdYf"
      },
      "source": [
        "#@title Licensed under the Apache License, Version 2.0 (the \"License\");\n",
        "# you may not use this file except in compliance with the License.\n",
        "# You may obtain a copy of the License at\n",
        "#\n",
        "# https://www.apache.org/licenses/LICENSE-2.0\n",
        "#\n",
        "# Unless required by applicable law or agreed to in writing, software\n",
        "# distributed under the License is distributed on an \"AS IS\" BASIS,\n",
        "# WITHOUT WARRANTIES OR CONDITIONS OF ANY KIND, either express or implied.\n",
        "# See the License for the specific language governing permissions and\n",
        "# limitations under the License."
      ],
      "execution_count": null,
      "outputs": []
    },
    {
      "cell_type": "code",
      "metadata": {
        "colab": {
          "base_uri": "https://localhost:8080/"
        },
        "id": "1xJZ5glPPCRz",
        "outputId": "a7bbf6cb-4677-4870-c2be-d316865c2182"
      },
      "source": [
        "import os\n",
        "\n",
        "from tensorflow.keras import layers\n",
        "from tensorflow.keras import Model\n",
        "!wget --no-check-certificate \\\n",
        "    https://storage.googleapis.com/mledu-datasets/inception_v3_weights_tf_dim_ordering_tf_kernels_notop.h5 \\\n",
        "    -O /tmp/inception_v3_weights_tf_dim_ordering_tf_kernels_notop.h5\n",
        "  \n",
        "from tensorflow.keras.applications.inception_v3 import InceptionV3\n",
        "\n",
        "local_weights_file = '/tmp/inception_v3_weights_tf_dim_ordering_tf_kernels_notop.h5'\n",
        "\n",
        "pre_trained_model = InceptionV3(input_shape = (150, 150, 3), \n",
        "                                include_top = False, \n",
        "                                weights=None)  # weights=\"imagenet\"  also work\n",
        "\n",
        "pre_trained_model.load_weights(local_weights_file)   # if weights=None\n",
        "\n",
        "for layer in pre_trained_model.layers:\n",
        "  layer.trainable = False\n",
        "  \n",
        "# pre_trained_model.summary()\n",
        "\n",
        "last_layer = pre_trained_model.get_layer('mixed7')\n",
        "print('last layer output shape: ', last_layer.output_shape)\n",
        "last_output = last_layer.output"
      ],
      "execution_count": 3,
      "outputs": [
        {
          "output_type": "stream",
          "text": [
            "--2021-02-13 15:11:48--  https://storage.googleapis.com/mledu-datasets/inception_v3_weights_tf_dim_ordering_tf_kernels_notop.h5\n",
            "Resolving storage.googleapis.com (storage.googleapis.com)... 173.194.69.128, 108.177.119.128, 108.177.126.128, ...\n",
            "Connecting to storage.googleapis.com (storage.googleapis.com)|173.194.69.128|:443... connected.\n",
            "HTTP request sent, awaiting response... 200 OK\n",
            "Length: 87910968 (84M) [application/x-hdf]\n",
            "Saving to: ‘/tmp/inception_v3_weights_tf_dim_ordering_tf_kernels_notop.h5’\n",
            "\n",
            "/tmp/inception_v3_w 100%[===================>]  83.84M  47.6MB/s    in 1.8s    \n",
            "\n",
            "2021-02-13 15:11:51 (47.6 MB/s) - ‘/tmp/inception_v3_weights_tf_dim_ordering_tf_kernels_notop.h5’ saved [87910968/87910968]\n",
            "\n",
            "last layer output shape:  (None, 7, 7, 768)\n"
          ],
          "name": "stdout"
        }
      ]
    },
    {
      "cell_type": "code",
      "metadata": {
        "id": "w9qQd2_Q8vf4",
        "outputId": "a11e2427-a57a-4e40-d950-71aad024fc39",
        "colab": {
          "base_uri": "https://localhost:8080/"
        }
      },
      "source": [
        "last_layer.output, last_layer"
      ],
      "execution_count": 9,
      "outputs": [
        {
          "output_type": "execute_result",
          "data": {
            "text/plain": [
              "(<KerasTensor: shape=(None, 7, 7, 768) dtype=float32 (created by layer 'mixed7')>,\n",
              " <tensorflow.python.keras.layers.merge.Concatenate at 0x7f5bc00976d8>)"
            ]
          },
          "metadata": {
            "tags": []
          },
          "execution_count": 9
        }
      ]
    },
    {
      "cell_type": "code",
      "metadata": {
        "id": "BMXb913pbvFg"
      },
      "source": [
        "from tensorflow.keras.optimizers import RMSprop\n",
        "\n",
        "# Flatten the output layer to 1 dimension\n",
        "x = layers.Flatten()(last_output)\n",
        "# Add a fully connected layer with 1,024 hidden units and ReLU activation\n",
        "x = layers.Dense(1024, activation='relu')(x)\n",
        "# Add a dropout rate of 0.2\n",
        "x = layers.Dropout(0.2)(x)                  \n",
        "# Add a final sigmoid layer for classification\n",
        "x = layers.Dense  (1, activation='sigmoid')(x)           \n",
        "\n",
        "model = Model( pre_trained_model.input, x) \n",
        "\n",
        "model.compile(optimizer = RMSprop(lr=0.0001), \n",
        "              loss = 'binary_crossentropy', \n",
        "              metrics = ['accuracy'])\n"
      ],
      "execution_count": 10,
      "outputs": []
    },
    {
      "cell_type": "code",
      "metadata": {
        "colab": {
          "base_uri": "https://localhost:8080/"
        },
        "id": "O4s8HckqGlnb",
        "outputId": "181cd9a5-554c-46d5-a6cf-1d4e609f73ca"
      },
      "source": [
        "!wget --no-check-certificate \\\n",
        "        https://storage.googleapis.com/mledu-datasets/cats_and_dogs_filtered.zip \\\n",
        "       -O /tmp/cats_and_dogs_filtered.zip\n",
        "\n",
        "from tensorflow.keras.preprocessing.image import ImageDataGenerator\n",
        "\n",
        "import os\n",
        "import zipfile\n",
        "\n",
        "local_zip = '//tmp/cats_and_dogs_filtered.zip'\n",
        "\n",
        "zip_ref = zipfile.ZipFile(local_zip, 'r')\n",
        "\n",
        "zip_ref.extractall('/tmp')\n",
        "zip_ref.close()\n",
        "\n",
        "# Define our example directories and files\n",
        "base_dir = '/tmp/cats_and_dogs_filtered'\n",
        "\n",
        "train_dir = os.path.join( base_dir, 'train')\n",
        "validation_dir = os.path.join( base_dir, 'validation')\n",
        "\n",
        "\n",
        "train_cats_dir = os.path.join(train_dir, 'cats') # Directory with our training cat pictures\n",
        "train_dogs_dir = os.path.join(train_dir, 'dogs') # Directory with our training dog pictures\n",
        "validation_cats_dir = os.path.join(validation_dir, 'cats') # Directory with our validation cat pictures\n",
        "validation_dogs_dir = os.path.join(validation_dir, 'dogs')# Directory with our validation dog pictures\n",
        "\n",
        "train_cat_fnames = os.listdir(train_cats_dir)\n",
        "train_dog_fnames = os.listdir(train_dogs_dir)\n",
        "\n",
        "# Add our data-augmentation parameters to ImageDataGenerator\n",
        "train_datagen = ImageDataGenerator(rescale = 1./255.,\n",
        "                                   rotation_range = 40,\n",
        "                                   width_shift_range = 0.2,\n",
        "                                   height_shift_range = 0.2,\n",
        "                                   shear_range = 0.2,\n",
        "                                   zoom_range = 0.2,\n",
        "                                   horizontal_flip = True)\n",
        "\n",
        "# Note that the validation data should not be augmented!\n",
        "test_datagen = ImageDataGenerator( rescale = 1.0/255. )\n",
        "\n",
        "# Flow training images in batches of 20 using train_datagen generator\n",
        "train_generator = train_datagen.flow_from_directory(train_dir,\n",
        "                                                    batch_size = 20,\n",
        "                                                    class_mode = 'binary', \n",
        "                                                    target_size = (150, 150))     \n",
        "\n",
        "# Flow validation images in batches of 20 using test_datagen generator\n",
        "validation_generator =  test_datagen.flow_from_directory( validation_dir,\n",
        "                                                          batch_size  = 20,\n",
        "                                                          class_mode  = 'binary', \n",
        "                                                          target_size = (150, 150))"
      ],
      "execution_count": 14,
      "outputs": [
        {
          "output_type": "stream",
          "text": [
            "--2021-02-13 15:30:30--  https://storage.googleapis.com/mledu-datasets/cats_and_dogs_filtered.zip\n",
            "Resolving storage.googleapis.com (storage.googleapis.com)... 108.177.126.128, 108.177.127.128, 173.194.79.128, ...\n",
            "Connecting to storage.googleapis.com (storage.googleapis.com)|108.177.126.128|:443... connected.\n",
            "HTTP request sent, awaiting response... 200 OK\n",
            "Length: 68606236 (65M) [application/zip]\n",
            "Saving to: ‘/tmp/cats_and_dogs_filtered.zip’\n",
            "\n",
            "/tmp/cats_and_dogs_ 100%[===================>]  65.43M   115MB/s    in 0.6s    \n",
            "\n",
            "2021-02-13 15:30:31 (115 MB/s) - ‘/tmp/cats_and_dogs_filtered.zip’ saved [68606236/68606236]\n",
            "\n",
            "Found 2000 images belonging to 2 classes.\n",
            "Found 1000 images belonging to 2 classes.\n"
          ],
          "name": "stdout"
        }
      ]
    },
    {
      "cell_type": "code",
      "metadata": {
        "colab": {
          "base_uri": "https://localhost:8080/"
        },
        "id": "Blhq2MAUeyGA",
        "outputId": "a95fb792-9736-43ff-ea34-ded7aa0919e8"
      },
      "source": [
        "history = model.fit(\n",
        "            train_generator,\n",
        "            validation_data = validation_generator,\n",
        "            steps_per_epoch = 100,\n",
        "            epochs = 20,\n",
        "            validation_steps = 50,\n",
        "            verbose = 2)"
      ],
      "execution_count": 15,
      "outputs": [
        {
          "output_type": "stream",
          "text": [
            "Epoch 1/20\n",
            "100/100 - 26s - loss: 0.3395 - accuracy: 0.8655 - val_loss: 0.1117 - val_accuracy: 0.9540\n",
            "Epoch 2/20\n",
            "100/100 - 17s - loss: 0.2166 - accuracy: 0.9140 - val_loss: 0.1191 - val_accuracy: 0.9560\n",
            "Epoch 3/20\n",
            "100/100 - 17s - loss: 0.1960 - accuracy: 0.9245 - val_loss: 0.1161 - val_accuracy: 0.9640\n",
            "Epoch 4/20\n",
            "100/100 - 17s - loss: 0.1950 - accuracy: 0.9305 - val_loss: 0.3593 - val_accuracy: 0.9110\n",
            "Epoch 5/20\n",
            "100/100 - 17s - loss: 0.1875 - accuracy: 0.9325 - val_loss: 0.1166 - val_accuracy: 0.9680\n",
            "Epoch 6/20\n",
            "100/100 - 17s - loss: 0.1721 - accuracy: 0.9395 - val_loss: 0.1796 - val_accuracy: 0.9470\n",
            "Epoch 7/20\n",
            "100/100 - 17s - loss: 0.1717 - accuracy: 0.9400 - val_loss: 0.1085 - val_accuracy: 0.9680\n",
            "Epoch 8/20\n",
            "100/100 - 17s - loss: 0.1782 - accuracy: 0.9400 - val_loss: 0.1090 - val_accuracy: 0.9640\n",
            "Epoch 9/20\n",
            "100/100 - 17s - loss: 0.1344 - accuracy: 0.9580 - val_loss: 0.1553 - val_accuracy: 0.9600\n",
            "Epoch 10/20\n",
            "100/100 - 17s - loss: 0.1805 - accuracy: 0.9420 - val_loss: 0.1356 - val_accuracy: 0.9630\n",
            "Epoch 11/20\n",
            "100/100 - 17s - loss: 0.1509 - accuracy: 0.9560 - val_loss: 0.1131 - val_accuracy: 0.9670\n",
            "Epoch 12/20\n",
            "100/100 - 16s - loss: 0.1552 - accuracy: 0.9470 - val_loss: 0.1176 - val_accuracy: 0.9680\n",
            "Epoch 13/20\n",
            "100/100 - 17s - loss: 0.1440 - accuracy: 0.9525 - val_loss: 0.1122 - val_accuracy: 0.9640\n",
            "Epoch 14/20\n",
            "100/100 - 16s - loss: 0.1148 - accuracy: 0.9600 - val_loss: 0.1300 - val_accuracy: 0.9690\n",
            "Epoch 15/20\n",
            "100/100 - 16s - loss: 0.1588 - accuracy: 0.9480 - val_loss: 0.1271 - val_accuracy: 0.9660\n",
            "Epoch 16/20\n",
            "100/100 - 17s - loss: 0.1424 - accuracy: 0.9525 - val_loss: 0.1293 - val_accuracy: 0.9670\n",
            "Epoch 17/20\n",
            "100/100 - 16s - loss: 0.1475 - accuracy: 0.9515 - val_loss: 0.1706 - val_accuracy: 0.9600\n",
            "Epoch 18/20\n",
            "100/100 - 16s - loss: 0.1215 - accuracy: 0.9565 - val_loss: 0.1145 - val_accuracy: 0.9650\n",
            "Epoch 19/20\n",
            "100/100 - 16s - loss: 0.1221 - accuracy: 0.9585 - val_loss: 0.1120 - val_accuracy: 0.9670\n",
            "Epoch 20/20\n",
            "100/100 - 16s - loss: 0.1681 - accuracy: 0.9435 - val_loss: 0.1894 - val_accuracy: 0.9530\n"
          ],
          "name": "stdout"
        }
      ]
    },
    {
      "cell_type": "code",
      "metadata": {
        "colab": {
          "base_uri": "https://localhost:8080/",
          "height": 299
        },
        "id": "C2Fp6Se9rKuL",
        "outputId": "7d8f921f-f6e1-42d5-efe0-9c6504aed039"
      },
      "source": [
        "import matplotlib.pyplot as plt\n",
        "acc = history.history['accuracy']\n",
        "val_acc = history.history['val_accuracy']\n",
        "loss = history.history['loss']\n",
        "val_loss = history.history['val_loss']\n",
        "\n",
        "epochs = range(len(acc))\n",
        "\n",
        "plt.plot(epochs, acc, 'r', label='Training accuracy')\n",
        "plt.plot(epochs, val_acc, 'b', label='Validation accuracy')\n",
        "plt.title('Training and validation accuracy')\n",
        "plt.legend(loc=0)\n",
        "plt.figure()\n",
        "\n",
        "\n",
        "plt.show()"
      ],
      "execution_count": 16,
      "outputs": [
        {
          "output_type": "display_data",
          "data": {
            "image/png": "[encoded data removed]",
            "text/plain": [
              "<Figure size 432x288 with 1 Axes>"
            ]
          },
          "metadata": {
            "tags": [],
            "needs_background": "light"
          }
        },
        {
          "output_type": "display_data",
          "data": {
            "text/plain": [
              "<Figure size 432x288 with 0 Axes>"
            ]
          },
          "metadata": {
            "tags": []
          }
        }
      ]
    },
    {
      "cell_type": "code",
      "metadata": {
        "id": "UDVhjGIDICXE"
      },
      "source": [
        "# try to use model without dropout\r\n",
        "# Flatten the output layer to 1 dimension\r\n",
        "x = layers.Flatten()(last_output)\r\n",
        "# Add a fully connected layer with 1,024 hidden units and ReLU activation\r\n",
        "x = layers.Dense(1024, activation='relu')(x)                \r\n",
        "# Add a final sigmoid layer for classification\r\n",
        "x = layers.Dense  (1, activation='sigmoid')(x)           \r\n",
        "\r\n",
        "model = Model( pre_trained_model.input, x) \r\n",
        "model.compile(optimizer = RMSprop(lr=0.0001), \r\n",
        "              loss = 'binary_crossentropy', \r\n",
        "              metrics = ['accuracy'])\r\n"
      ],
      "execution_count": 17,
      "outputs": []
    },
    {
      "cell_type": "code",
      "metadata": {
        "id": "jLomyigqIimO",
        "outputId": "ef986a26-5783-4ea7-dc41-7609355b1c47",
        "colab": {
          "base_uri": "https://localhost:8080/"
        }
      },
      "source": [
        "history = model.fit(\r\n",
        "            train_generator,\r\n",
        "            steps_per_epoch = 100,\r\n",
        "            epochs = 20,\r\n",
        "            validation_data = validation_generator,\r\n",
        "            validation_steps = 50,\r\n",
        "            verbose = 2)"
      ],
      "execution_count": 19,
      "outputs": [
        {
          "output_type": "stream",
          "text": [
            "Epoch 1/20\n",
            "100/100 - 20s - loss: 0.3131 - accuracy: 0.8680 - val_loss: 0.1156 - val_accuracy: 0.9590\n",
            "Epoch 2/20\n",
            "100/100 - 16s - loss: 0.2116 - accuracy: 0.9110 - val_loss: 0.1350 - val_accuracy: 0.9540\n",
            "Epoch 3/20\n",
            "100/100 - 16s - loss: 0.2059 - accuracy: 0.9180 - val_loss: 0.1104 - val_accuracy: 0.9620\n",
            "Epoch 4/20\n",
            "100/100 - 16s - loss: 0.1850 - accuracy: 0.9280 - val_loss: 0.1240 - val_accuracy: 0.9560\n",
            "Epoch 5/20\n",
            "100/100 - 17s - loss: 0.1542 - accuracy: 0.9420 - val_loss: 0.1320 - val_accuracy: 0.9550\n",
            "Epoch 6/20\n",
            "100/100 - 17s - loss: 0.1586 - accuracy: 0.9345 - val_loss: 0.1239 - val_accuracy: 0.9630\n",
            "Epoch 7/20\n",
            "100/100 - 17s - loss: 0.1541 - accuracy: 0.9440 - val_loss: 0.1199 - val_accuracy: 0.9650\n",
            "Epoch 8/20\n",
            "100/100 - 16s - loss: 0.1685 - accuracy: 0.9435 - val_loss: 0.0929 - val_accuracy: 0.9700\n",
            "Epoch 9/20\n",
            "100/100 - 16s - loss: 0.1557 - accuracy: 0.9375 - val_loss: 0.1013 - val_accuracy: 0.9680\n",
            "Epoch 10/20\n",
            "100/100 - 16s - loss: 0.1344 - accuracy: 0.9490 - val_loss: 0.1207 - val_accuracy: 0.9650\n",
            "Epoch 11/20\n",
            "100/100 - 17s - loss: 0.1413 - accuracy: 0.9510 - val_loss: 0.1092 - val_accuracy: 0.9660\n",
            "Epoch 12/20\n",
            "100/100 - 17s - loss: 0.1431 - accuracy: 0.9550 - val_loss: 0.1027 - val_accuracy: 0.9670\n",
            "Epoch 13/20\n",
            "100/100 - 17s - loss: 0.1275 - accuracy: 0.9590 - val_loss: 0.1209 - val_accuracy: 0.9680\n",
            "Epoch 14/20\n",
            "100/100 - 16s - loss: 0.1191 - accuracy: 0.9535 - val_loss: 0.1192 - val_accuracy: 0.9680\n",
            "Epoch 15/20\n",
            "100/100 - 17s - loss: 0.1238 - accuracy: 0.9600 - val_loss: 0.1735 - val_accuracy: 0.9530\n",
            "Epoch 16/20\n",
            "100/100 - 17s - loss: 0.1214 - accuracy: 0.9580 - val_loss: 0.1275 - val_accuracy: 0.9650\n",
            "Epoch 17/20\n",
            "100/100 - 17s - loss: 0.1190 - accuracy: 0.9585 - val_loss: 0.1358 - val_accuracy: 0.9630\n",
            "Epoch 18/20\n",
            "100/100 - 17s - loss: 0.0996 - accuracy: 0.9630 - val_loss: 0.1428 - val_accuracy: 0.9690\n",
            "Epoch 19/20\n",
            "100/100 - 16s - loss: 0.1269 - accuracy: 0.9580 - val_loss: 0.1290 - val_accuracy: 0.9690\n",
            "Epoch 20/20\n",
            "100/100 - 16s - loss: 0.1200 - accuracy: 0.9620 - val_loss: 0.1323 - val_accuracy: 0.9680\n"
          ],
          "name": "stdout"
        }
      ]
    },
    {
      "cell_type": "code",
      "metadata": {
        "id": "Zi1NJkaZIfG6",
        "outputId": "a820d44b-adde-4d7c-9030-73f509d932fd",
        "colab": {
          "base_uri": "https://localhost:8080/",
          "height": 317
        }
      },
      "source": [
        "acc = history.history['accuracy']\r\n",
        "val_acc = history.history['val_accuracy']\r\n",
        "loss = history.history['loss']\r\n",
        "val_loss = history.history['val_loss']\r\n",
        "\r\n",
        "epochs = range(len(acc))\r\n",
        "\r\n",
        "plt.plot(epochs, acc, 'r', label='Train accuracy')\r\n",
        "plt.plot(epochs, val_acc, 'b', label='Validation accuracy')\r\n",
        "plt.title('Training and validation accuracy')\r\n",
        "plt.legend(loc=0)\r\n",
        "plt.figure()"
      ],
      "execution_count": 20,
      "outputs": [
        {
          "output_type": "execute_result",
          "data": {
            "text/plain": [
              "<Figure size 432x288 with 0 Axes>"
            ]
          },
          "metadata": {
            "tags": []
          },
          "execution_count": 20
        },
        {
          "output_type": "display_data",
          "data": {
            "image/png": "[encoded data removed]",
            "text/plain": [
              "<Figure size 432x288 with 1 Axes>"
            ]
          },
          "metadata": {
            "tags": [],
            "needs_background": "light"
          }
        },
        {
          "output_type": "display_data",
          "data": {
            "text/plain": [
              "<Figure size 432x288 with 0 Axes>"
            ]
          },
          "metadata": {
            "tags": []
          }
        }
      ]
    },
    {
      "cell_type": "code",
      "metadata": {
        "id": "NeiIO-AaK1-h"
      },
      "source": [
        ""
      ],
      "execution_count": null,
      "outputs": []
    }
  ]
}